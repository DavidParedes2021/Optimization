{
 "cells": [
  {
   "cell_type": "code",
   "execution_count": 43,
   "id": "02c05afa",
   "metadata": {},
   "outputs": [],
   "source": [
    "import numpy as np\n",
    "\n",
    "class AntColonyOptimization:\n",
    "\n",
    "    def __default_h_calc(self, dist_mtx: np.ndarray) -> np.ndarray:\n",
    "        heuristic_mtx = np.ones_like(dist_mtx, dtype=np.float64)\n",
    "        nonzero_indices = dist_mtx > 0.0\n",
    "\n",
    "        heuristic_mtx[nonzero_indices] /= dist_mtx[nonzero_indices]\n",
    "\n",
    "        for i in range(dist_mtx.shape[0]):\n",
    "            heuristic_mtx[i][i] = 0\n",
    "\n",
    "        return heuristic_mtx\n",
    "\n",
    "\n",
    "    def __init__(self,\n",
    "                 dist_mtx: np.ndarray,\n",
    "                 n_ants: int,\n",
    "                 max_it: int = 100,\n",
    "                 evaporation_rate: float = 0.7,\n",
    "                 alpha: float = 1.0,\n",
    "                 betha: float = 1.0,\n",
    "                 heuristic_calc_func=None) -> None:\n",
    "        self.dist_mtx = dist_mtx\n",
    "        self.n_ants = n_ants\n",
    "        self.max_it = max_it\n",
    "        self.evapr = evaporation_rate\n",
    "        self.alpha = alpha\n",
    "        self.betha = betha\n",
    "\n",
    "        self.heuristic_calc_func = self.__default_h_calc\n",
    "        if heuristic_calc_func is not None:\n",
    "            self.heuristic_calc_func = heuristic_calc_func\n",
    "\n",
    "        self.pher_mxt = None\n",
    "        self.hstc_mtx = None\n",
    "        self.best_ant = None\n",
    "        self.best_ant_length = None\n",
    "\n",
    "    def __init_var(self):\n",
    "        self.hstc_mtx = self.__default_h_calc(self.dist_mtx)\n",
    "        self.pher_mxt = np.ones_like(self.dist_mtx) * 0.01\n",
    "        self.best_ant = np.zeros((self.dist_mtx.shape[0]))\n",
    "        \n",
    "    def test_print(self):\n",
    "        print(self.hstc_mtx)\n",
    "        print(self.pher_mxt)\n",
    "\n",
    "    def solve(self):\n",
    "        self.__init_var()\n",
    "        ant_path = np.zeros((self.n_ants, self.best_ant.shape[0]))\n",
    "        ant_path_len = np.zeros((self.n_ants))\n",
    "        for k in range(self.max_it):\n",
    "            for i in range(self.n_ants):\n",
    "                ant_path[i][0] = np.random.randint(self.dist_mtx.shape[0])\n",
    "                for j in range(1, self.dist_mtx.shape[0]):\n",
    "                    probs = self.__move_prob(ant_path[i][:j], int(ant_path[i][j - 1]))\n",
    "                    ant_path[i][j] = np.random.choice(np.arange(self.dist_mtx.shape[0]), p=probs)\n",
    "\n",
    "                ant_path_len[i] = self.__path_len(ant_path[i])\n",
    "\n",
    "                if (self.best_ant_length == None) or ant_path_len[i] < self.best_ant_length:\n",
    "                    self.best_ant = ant_path[i].copy()\n",
    "                    self.best_ant_length = ant_path_len[i]\n",
    "\n",
    "                self.__update_pheromones(ant_path[i], ant_path_len[i])\n",
    "\n",
    "        return self.best_ant, self.best_ant_length\n",
    "\n",
    "    def __move_prob(self, visited, current):\n",
    "        pheromones = np.copy(self.pher_mxt[current])\n",
    "        heuristics = self.hstc_mtx[current]\n",
    "\n",
    "        # Cast the values in 'visited' to integers and set corresponding pheromones to 0\n",
    "        visited_indices = np.array(visited, dtype=np.int64)\n",
    "        pheromones[visited_indices] = 0\n",
    "\n",
    "        probabilities = pheromones ** self.alpha * heuristics ** self.betha\n",
    "        probabilities /= np.sum(probabilities)\n",
    "        return probabilities\n",
    "\n",
    "    def __path_len(self, path):\n",
    "        length = 0\n",
    "        for i in range(len(path) - 1):\n",
    "            length += self.dist_mtx[int(path[i])][int(path[i + 1])]\n",
    "        return length\n",
    "\n",
    "    def __update_pheromones(self, path, length):\n",
    "        for i in range(len(path) - 1):\n",
    "            self.pher_mxt[int(path[i])][int(path[i + 1])] += 1.0 / length\n",
    "            self.pher_mxt[int(path[i + 1])][int(path[i])] += 1.0 / length\n",
    "\n",
    "# Example usage:\n",
    "# dist_mtx = np.array([[0, 2, 9, 10], [1, 0, 6, 4], [15, 7, 0, 8]])\n"
   ]
  },
  {
   "cell_type": "code",
   "execution_count": 46,
   "id": "604827ea",
   "metadata": {},
   "outputs": [
    {
     "name": "stdout",
     "output_type": "stream",
     "text": [
      "[1. 0. 2.]\n",
      "10.0\n"
     ]
    },
    {
     "data": {
      "text/plain": [
       "(array([1., 0., 2.]), 10)"
      ]
     },
     "execution_count": 46,
     "metadata": {},
     "output_type": "execute_result"
    }
   ],
   "source": [
    "dist_mtx = np.array([[0, 2, 9], [1, 0, 6], [15, 7, 0]])\n",
    "aco = AntColonyOptimization(dist_mtx, n_ants=1,max_it=1)\n",
    "aco.solve()"
   ]
  },
  {
   "cell_type": "code",
   "execution_count": 48,
   "id": "f26b2566",
   "metadata": {},
   "outputs": [
    {
     "ename": "OverflowError",
     "evalue": "cannot convert float infinity to integer",
     "output_type": "error",
     "traceback": [
      "\u001b[1;31m---------------------------------------------------------------------------\u001b[0m",
      "\u001b[1;31mOverflowError\u001b[0m                             Traceback (most recent call last)",
      "\u001b[1;32m~\\AppData\\Local\\Temp\\ipykernel_7908\\2127692425.py\u001b[0m in \u001b[0;36m<module>\u001b[1;34m\u001b[0m\n\u001b[1;32m----> 1\u001b[1;33m \u001b[0mprint\u001b[0m\u001b[1;33m(\u001b[0m\u001b[0mint\u001b[0m\u001b[1;33m(\u001b[0m\u001b[0mfloat\u001b[0m\u001b[1;33m(\u001b[0m\u001b[1;34m'inf'\u001b[0m\u001b[1;33m)\u001b[0m\u001b[1;33m)\u001b[0m\u001b[1;33m)\u001b[0m\u001b[1;33m\u001b[0m\u001b[1;33m\u001b[0m\u001b[0m\n\u001b[0m",
      "\u001b[1;31mOverflowError\u001b[0m: cannot convert float infinity to integer"
     ]
    }
   ],
   "source": [
    "print(int(float('inf')))"
   ]
  },
  {
   "cell_type": "code",
   "execution_count": null,
   "id": "cd7fd5c3",
   "metadata": {},
   "outputs": [],
   "source": []
  }
 ],
 "metadata": {
  "kernelspec": {
   "display_name": "Python 3 (ipykernel)",
   "language": "python",
   "name": "python3"
  },
  "language_info": {
   "codemirror_mode": {
    "name": "ipython",
    "version": 3
   },
   "file_extension": ".py",
   "mimetype": "text/x-python",
   "name": "python",
   "nbconvert_exporter": "python",
   "pygments_lexer": "ipython3",
   "version": "3.9.13"
  }
 },
 "nbformat": 4,
 "nbformat_minor": 5
}
