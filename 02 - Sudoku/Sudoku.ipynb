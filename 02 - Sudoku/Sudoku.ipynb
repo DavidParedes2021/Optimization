{
 "cells": [
  {
   "cell_type": "code",
   "execution_count": 1,
   "id": "6f07f5d8",
   "metadata": {},
   "outputs": [],
   "source": [
    "import pandas as pd\n",
    "import numpy as np\n",
    "import random"
   ]
  },
  {
   "cell_type": "markdown",
   "id": "3f00ad14",
   "metadata": {},
   "source": [
    "# Test functions"
   ]
  },
  {
   "cell_type": "code",
   "execution_count": 2,
   "id": "aa0b3721",
   "metadata": {},
   "outputs": [],
   "source": [
    "def test(n, pCrossover, pMutation):\n",
    "    sudoku_matrix = read_data()\n",
    "    #print(\"sudoku matrix\",sudoku_matrix)\n",
    "    missing_values_matrix = find_missing_values(sudoku_matrix)\n",
    "    #print(missing_values_matrix)\n",
    "    genotypeV = genotype(missing_values_matrix)\n",
    "    #print(\"genotipo\",genotypeV)\n",
    "    phenotypeV = phenotype(sudoku_matrix,genotypeV )\n",
    "    #print(\"phenotipo\",phenotypeV)\n",
    "    fitness = calculate_fitness(phenotypeV)\n",
    "    #print(fitness)"
   ]
  },
  {
   "cell_type": "markdown",
   "id": "9b3fa221",
   "metadata": {},
   "source": [
    "# Read data"
   ]
  },
  {
   "cell_type": "code",
   "execution_count": 3,
   "id": "f44088e6",
   "metadata": {},
   "outputs": [],
   "source": [
    "def read_data():\n",
    "    excel_file_path = 'sudoku.xlsx'\n",
    "    df = pd.read_excel(excel_file_path, header=None)\n",
    "    df = df.fillna(0)\n",
    "    sudoku_matrix = df.values\n",
    "    return sudoku_matrix"
   ]
  },
  {
   "cell_type": "markdown",
   "id": "bfb2ca12",
   "metadata": {},
   "source": [
    "# Missing values"
   ]
  },
  {
   "cell_type": "code",
   "execution_count": 4,
   "id": "8ee06790",
   "metadata": {},
   "outputs": [],
   "source": [
    "def find_missing_values(sudoku_matrix):\n",
    "    # Extract the first row\n",
    "    first_row = sudoku_matrix[0, :]\n",
    "\n",
    "    # Generate a set of all possible values (1 to 9)\n",
    "    all_values = set(range(1, 10))\n",
    "\n",
    "    # Create an empty matrix to store missing values\n",
    "    missing_v_matrix = np.empty((sudoku_matrix.shape[0],), dtype=object)\n",
    "\n",
    "    # Iterate through each row and calculate missing values\n",
    "    for row_idx, row in enumerate(sudoku_matrix):\n",
    "        missing_values = all_values - set(row)\n",
    "        missing_v_matrix[row_idx] = missing_values\n",
    "\n",
    "    # Now 'missing_values_matrix' contains missing values for each row\n",
    "    return missing_v_matrix"
   ]
  },
  {
   "cell_type": "markdown",
   "id": "8b2295f4",
   "metadata": {},
   "source": [
    "# Genotype"
   ]
  },
  {
   "cell_type": "code",
   "execution_count": 5,
   "id": "dc7deaaa",
   "metadata": {},
   "outputs": [],
   "source": [
    "def genotype(missing_values_matrix):\n",
    "    # Create an empty matrix to store permutations\n",
    "    permutation_matrix = np.empty_like(missing_values_matrix, dtype=object)\n",
    "\n",
    "    # Iterate through each row's missing values and generate permutations\n",
    "    for row_idx, missing_values in enumerate(missing_values_matrix):\n",
    "        missing_values = list(missing_values)\n",
    "        permutations = np.random.permutation(missing_values)\n",
    "        permutation_matrix[row_idx] = permutations\n",
    "\n",
    "    # Now 'permutation_matrix' contains permutations for each row's missing values\n",
    "    return permutation_matrix\n",
    "    "
   ]
  },
  {
   "cell_type": "markdown",
   "id": "24e80f02",
   "metadata": {},
   "source": [
    "# Phenotype"
   ]
  },
  {
   "cell_type": "code",
   "execution_count": 6,
   "id": "849e460f",
   "metadata": {},
   "outputs": [],
   "source": [
    "def phenotype(sudoku_matrix, genotype_matrix):\n",
    "    filled_matrix = np.copy(sudoku_matrix)\n",
    "    for row_idx, (sudoku_row, genotype_row) in enumerate(zip(sudoku_matrix, genotype_matrix)):\n",
    "        filled_matrix[row_idx, sudoku_row == 0] = genotype_row\n",
    "        \n",
    "    return filled_matrix"
   ]
  },
  {
   "cell_type": "markdown",
   "id": "aeb3bfa0",
   "metadata": {},
   "source": [
    "# Fitness"
   ]
  },
  {
   "cell_type": "code",
   "execution_count": 7,
   "id": "4a593106",
   "metadata": {},
   "outputs": [],
   "source": [
    "def calculate_fitness(phenotype_matrix):\n",
    "    valid_count = 0\n",
    "    valid_per_row = []\n",
    "    for i in range(9):\n",
    "        valid_per_row_count = 0\n",
    "        for j in range(9):\n",
    "            value = phenotype_matrix[i, j]\n",
    "            if is_valid(phenotype_matrix, i, j, value):\n",
    "                valid_count += 1\n",
    "                valid_per_row_count += 1\n",
    "        valid_per_row.append(valid_per_row_count)\n",
    "    valid_per_row_count_arr = np.array(valid_per_row)\n",
    "    return valid_count, valid_per_row_count_arr\n",
    "\n",
    "def is_valid(matrix, row, col, value):\n",
    "    # Check if the value is valid in the row, column, and subgrid\n",
    "    occurrences_row = np.count_nonzero(matrix[row, :] == value)\n",
    "    ocurrences_colum = np.count_nonzero(matrix[:, col] == value)\n",
    "    \n",
    "    subgrid_row = row // 3 * 3\n",
    "    subgrid_col = col // 3 * 3\n",
    "    subgrid = matrix[subgrid_row:subgrid_row+3, subgrid_col:subgrid_col+3]\n",
    "    \n",
    "    ocurrences_grid =  np.count_nonzero(subgrid == value)\n",
    "    \n",
    "    if(occurrences_row >= 2 or ocurrences_colum >= 2 or ocurrences_grid >= 2 ):\n",
    "        return False\n",
    "    return True"
   ]
  },
  {
   "cell_type": "markdown",
   "id": "0c10b95a",
   "metadata": {},
   "source": [
    "# Population"
   ]
  },
  {
   "cell_type": "code",
   "execution_count": 8,
   "id": "c5b14fee",
   "metadata": {},
   "outputs": [],
   "source": [
    "def generatePopulation(n, sudoku_matrix, missing_values_matrix):\n",
    "    p0 = []\n",
    "    fitness_p0 = []\n",
    "    fitness_per_row_acum = []\n",
    "    for _ in range(n):\n",
    "        genotypeV = genotype(missing_values_matrix)\n",
    "        phenotypeV = phenotype(sudoku_matrix, genotypeV)\n",
    "        fitness, fitness_per_row = calculate_fitness(phenotypeV)\n",
    "        p0.append(genotypeV)\n",
    "        fitness_p0.append(fitness)\n",
    "        fitness_per_row_acum.append(fitness_per_row)\n",
    "    p0_array = np.array(p0)\n",
    "    fitness_p0_array = np.array(fitness_p0)\n",
    "    fitness_per_row_acum_array = np.array(fitness_per_row_acum)\n",
    "    return p0_array,fitness_p0_array, fitness_per_row_acum_array"
   ]
  },
  {
   "cell_type": "markdown",
   "id": "942f96d4",
   "metadata": {},
   "source": [
    "# Elite"
   ]
  },
  {
   "cell_type": "code",
   "execution_count": 9,
   "id": "da140366",
   "metadata": {},
   "outputs": [],
   "source": [
    "def getElite(p0, p0_fitness):\n",
    "    # Find the index of the element with the highest score\n",
    "    index_of_highest_score = np.argmax(p0_fitness)\n",
    "\n",
    "    # Get the element with the highest score\n",
    "    elite = p0[index_of_highest_score]\n",
    "    elite_fitness = p0_fitness[index_of_highest_score]\n",
    "    return np.copy(elite), np.copy(elite_fitness)"
   ]
  },
  {
   "cell_type": "markdown",
   "id": "5a052575",
   "metadata": {},
   "source": [
    "# Get Parents / Binary Tournament"
   ]
  },
  {
   "cell_type": "code",
   "execution_count": 10,
   "id": "83ca6502",
   "metadata": {},
   "outputs": [],
   "source": [
    "def binaryTournament(p0,  p0_fitness):\n",
    "    # Randomly select two elements\n",
    "    random_indices = np.random.choice(len(p0), size=2, replace=False)\n",
    "    \n",
    "    #random_indices = np.random.choice(25, size=2, replace=False)\n",
    "    \n",
    "    random_elements = np.copy(p0[random_indices])\n",
    "    random_scores = np.copy(p0_fitness[random_indices])\n",
    "\n",
    "    # Find the index of the element with the highest score\n",
    "    index_of_highest_score = np.argmax(random_scores)\n",
    "\n",
    "    # Get the element with the highest score\n",
    "    element_with_highest_score = np.copy(p0[index_of_highest_score])\n",
    "    highest_score = np.copy(p0_fitness[index_of_highest_score])\n",
    "    \n",
    "    return index_of_highest_score, element_with_highest_score, highest_score\n",
    "\n",
    "def getParents(p0, p0_fitness):\n",
    "    idx1 = idx2 = 0\n",
    "    idx1, p1, hs1 = binaryTournament(p0,  p0_fitness)\n",
    "    idx2, p2, hs2 = binaryTournament(p0,  p0_fitness)\n",
    "    if(idx2 == idx1):\n",
    "        idx2 = idx1+1\n",
    "        p2 = p0[idx2]\n",
    "        hs2 = p0_fitness[idx2]\n",
    "    return p1,p2, hs1, hs2, idx1, idx2\n"
   ]
  },
  {
   "cell_type": "markdown",
   "id": "98224f3e",
   "metadata": {},
   "source": [
    "# Mutate "
   ]
  },
  {
   "cell_type": "code",
   "execution_count": 11,
   "id": "043786a1",
   "metadata": {},
   "outputs": [],
   "source": [
    "def mutate(new_individual):\n",
    "    # Select one of the arrays from the array of arrays\n",
    "    selected_array_index = np.random.randint(0, len(new_individual))\n",
    "    integer_array = np.copy(new_individual[selected_array_index])\n",
    "\n",
    "    # Choose two distinct random indices\n",
    "    indices_to_swap = np.random.choice(len(integer_array), size=2, replace=False)\n",
    "\n",
    "    # Swap the elements at the selected indices\n",
    "    integer_array[indices_to_swap[0]], integer_array[indices_to_swap[1]] = (\n",
    "        integer_array[indices_to_swap[1]],\n",
    "        integer_array[indices_to_swap[0]]\n",
    "    )\n",
    "    \n",
    "    new_individual[selected_array_index] = integer_array\n",
    "    \n",
    "    return np.copy(new_individual)"
   ]
  },
  {
   "cell_type": "markdown",
   "id": "c5a8e385",
   "metadata": {},
   "source": [
    "# Crossover"
   ]
  },
  {
   "cell_type": "code",
   "execution_count": 12,
   "id": "12f90a31",
   "metadata": {},
   "outputs": [],
   "source": [
    "def crossover(p1, p2, hs1, hs2,dominancePerc):\n",
    "    # Calculate the number of elements to choose from each array\n",
    "    random_integer = random.randint(1, 8)\n",
    "    new_individual = np.concatenate((p1[:random_integer], p2[random_integer:]))\n",
    "\n",
    "    return new_individual\n",
    "\n",
    "def crossover1(p1, p2, hs1, hs2,idx1, idx2, dominancePerc,new_individuals_fitness_p_row):\n",
    "    # Calculate the number of elements to choose from each array\n",
    "    \n",
    "    new_individual = []\n",
    "    scores_array_p1 = new_individuals_fitness_p_row[idx1]\n",
    "    scores_array_p2 = new_individuals_fitness_p_row[idx2]\n",
    "    for i in range(len(p1)):\n",
    "        score_p1 = scores_array_p1[i]  # Score of p1's element i\n",
    "        score_p2 = scores_array_p2[i]  # Score of p2's element i\n",
    "\n",
    "        if score_p1 > score_p2:\n",
    "            selected_element = p1[i]\n",
    "        else:\n",
    "            selected_element = p2[i]\n",
    "\n",
    "        new_individual.append(np.copy(selected_element))\n",
    "\n",
    "    return np.array(new_individual, dtype=object)\n"
   ]
  },
  {
   "cell_type": "markdown",
   "id": "35e8a82d",
   "metadata": {},
   "source": [
    "# Solve"
   ]
  },
  {
   "cell_type": "code",
   "execution_count": 15,
   "id": "79fe965b",
   "metadata": {},
   "outputs": [],
   "source": [
    "def solve(n, pCrossover, pMutation, dominancePerc):\n",
    "    sudoku_matrix = read_data()\n",
    "    missing_values_matrix = find_missing_values(sudoku_matrix)\n",
    "    p0, p0_fitness, p0_fitness_per_row = generatePopulation(n, sudoku_matrix, missing_values_matrix)\n",
    "\n",
    "    elite, elite_fitness = getElite(p0, p0_fitness)\n",
    "    k = 0\n",
    "    equal_elite = 0\n",
    "    prev_elite_fitness = elite_fitness\n",
    "    pMutationOrig = pMutation\n",
    "    while elite_fitness < 81 and k <= 50000:\n",
    "        if elite_fitness == prev_elite_fitness:\n",
    "            equal_elite+=1\n",
    "        else:\n",
    "            equal_elite=0\n",
    "            pMutation = pMutationOrig\n",
    "        if equal_elite == 50:\n",
    "            pMutation = 1\n",
    "        new_individuals = []\n",
    "        new_individuals_fitness = []\n",
    "        new_individuals_fitness_p_row = []\n",
    "        \n",
    "        k = k+1\n",
    "        #p0_fitness_copy = np.copy(p0_fitness)\n",
    "        #sorted_indices = np.argsort(p0_fitness_copy)[::-1]\n",
    "        #p0_sorted = [p0[i] for i in sorted_indices]\n",
    "        #p0 = np.copy(p0_sorted)\n",
    "        #p0_fitness = p0_fitness_copy[sorted_indices]\n",
    "        for i in range(n):\n",
    "            \n",
    "            random_p = random.random()\n",
    "\n",
    "            #idx, new_individual, hs =  binaryTournament(p0,  p0_fitness)\n",
    "            new_individual= p0[0]\n",
    "            \n",
    "            if random_p <= pCrossover:\n",
    "                p1, p2, hs1, hs2, idx1, idx2 = getParents(p0, p0_fitness)\n",
    "                #new_individual = crossover(p1, p2, hs1, hs2,idx1, idx2, dominancePerc,p0_fitness_per_row)\n",
    "                new_individual = crossover(p1, p2, hs1, hs2,dominancePerc)\n",
    "            #random_p = random.random()\n",
    "            if random_p <= pMutation:\n",
    "                new_individual = mutate(new_individual)\n",
    " \n",
    "\n",
    "            new_individuals.append(new_individual)\n",
    "            fitness, fit_p_row = calculate_fitness(  phenotype(sudoku_matrix, new_individual) )\n",
    "            new_individuals_fitness.append(fitness)\n",
    "            new_individuals_fitness_p_row.append(fit_p_row)\n",
    "\n",
    "        p0 = np.copy(np.array(new_individuals))\n",
    "        p0_fitness = np.copy(np.array(new_individuals_fitness))\n",
    "        p0_fitness_per_row = np.copy(np.array(new_individuals_fitness_p_row))\n",
    "        new_elite, new_elite_fitness = getElite(p0, p0_fitness)\n",
    "        if(new_elite_fitness > elite_fitness):\n",
    "            elite_fitness = new_elite_fitness\n",
    "            elite = new_elite\n",
    "        print(\"K: \",k, \"elite fitness: \", elite_fitness)\n",
    "    return elite, elite_fitness"
   ]
  },
  {
   "cell_type": "markdown",
   "id": "711801d8",
   "metadata": {},
   "source": [
    "# Main"
   ]
  },
  {
   "cell_type": "code",
   "execution_count": 16,
   "id": "31be3ac2",
   "metadata": {},
   "outputs": [
    {
     "name": "stdout",
     "output_type": "stream",
     "text": [
      "K:  1 elite fitness:  31\n",
      "K:  2 elite fitness:  31\n",
      "K:  3 elite fitness:  31\n",
      "K:  4 elite fitness:  31\n",
      "K:  5 elite fitness:  31\n",
      "K:  6 elite fitness:  31\n",
      "K:  7 elite fitness:  31\n",
      "K:  8 elite fitness:  31\n",
      "K:  9 elite fitness:  31\n",
      "K:  10 elite fitness:  31\n",
      "K:  11 elite fitness:  31\n",
      "K:  12 elite fitness:  31\n",
      "K:  13 elite fitness:  31\n",
      "K:  14 elite fitness:  31\n",
      "K:  15 elite fitness:  31\n",
      "K:  16 elite fitness:  31\n",
      "K:  17 elite fitness:  31\n",
      "K:  18 elite fitness:  31\n",
      "K:  19 elite fitness:  31\n",
      "K:  20 elite fitness:  31\n",
      "K:  21 elite fitness:  31\n",
      "K:  22 elite fitness:  31\n",
      "K:  23 elite fitness:  31\n",
      "K:  24 elite fitness:  31\n",
      "K:  25 elite fitness:  31\n",
      "K:  26 elite fitness:  31\n",
      "K:  27 elite fitness:  31\n",
      "K:  28 elite fitness:  31\n",
      "K:  29 elite fitness:  31\n",
      "K:  30 elite fitness:  31\n",
      "K:  31 elite fitness:  31\n",
      "K:  32 elite fitness:  31\n",
      "K:  33 elite fitness:  31\n",
      "K:  34 elite fitness:  31\n",
      "K:  35 elite fitness:  31\n",
      "K:  36 elite fitness:  31\n",
      "K:  37 elite fitness:  31\n",
      "K:  38 elite fitness:  31\n",
      "K:  39 elite fitness:  31\n",
      "K:  40 elite fitness:  31\n",
      "K:  41 elite fitness:  31\n",
      "K:  42 elite fitness:  31\n",
      "K:  43 elite fitness:  31\n",
      "K:  44 elite fitness:  31\n",
      "K:  45 elite fitness:  31\n",
      "K:  46 elite fitness:  31\n",
      "K:  47 elite fitness:  31\n",
      "K:  48 elite fitness:  31\n",
      "K:  49 elite fitness:  31\n",
      "K:  50 elite fitness:  31\n",
      "K:  51 elite fitness:  31\n",
      "K:  52 elite fitness:  31\n",
      "K:  53 elite fitness:  31\n",
      "K:  54 elite fitness:  31\n",
      "K:  55 elite fitness:  31\n",
      "K:  56 elite fitness:  31\n",
      "K:  57 elite fitness:  31\n",
      "K:  58 elite fitness:  31\n",
      "K:  59 elite fitness:  31\n",
      "K:  60 elite fitness:  31\n",
      "K:  61 elite fitness:  31\n",
      "K:  62 elite fitness:  31\n",
      "K:  63 elite fitness:  31\n",
      "K:  64 elite fitness:  31\n",
      "K:  65 elite fitness:  31\n",
      "K:  66 elite fitness:  31\n",
      "K:  67 elite fitness:  32\n",
      "K:  68 elite fitness:  32\n",
      "K:  69 elite fitness:  32\n",
      "K:  70 elite fitness:  32\n",
      "K:  71 elite fitness:  32\n",
      "K:  72 elite fitness:  32\n",
      "K:  73 elite fitness:  32\n",
      "K:  74 elite fitness:  32\n",
      "K:  75 elite fitness:  32\n",
      "K:  76 elite fitness:  32\n",
      "K:  77 elite fitness:  32\n",
      "K:  78 elite fitness:  32\n",
      "K:  79 elite fitness:  32\n",
      "K:  80 elite fitness:  32\n",
      "K:  81 elite fitness:  32\n",
      "K:  82 elite fitness:  32\n",
      "K:  83 elite fitness:  32\n",
      "K:  84 elite fitness:  32\n",
      "K:  85 elite fitness:  32\n",
      "K:  86 elite fitness:  32\n",
      "K:  87 elite fitness:  32\n",
      "K:  88 elite fitness:  32\n",
      "K:  89 elite fitness:  32\n",
      "K:  90 elite fitness:  32\n",
      "K:  91 elite fitness:  32\n",
      "K:  92 elite fitness:  32\n",
      "K:  93 elite fitness:  32\n",
      "K:  94 elite fitness:  32\n",
      "K:  95 elite fitness:  32\n",
      "K:  96 elite fitness:  32\n",
      "K:  97 elite fitness:  32\n",
      "K:  98 elite fitness:  32\n",
      "K:  99 elite fitness:  32\n",
      "K:  100 elite fitness:  32\n",
      "K:  101 elite fitness:  32\n",
      "K:  102 elite fitness:  32\n",
      "K:  103 elite fitness:  32\n",
      "K:  104 elite fitness:  32\n",
      "K:  105 elite fitness:  32\n",
      "K:  106 elite fitness:  32\n",
      "K:  107 elite fitness:  32\n",
      "K:  108 elite fitness:  32\n",
      "K:  109 elite fitness:  32\n",
      "K:  110 elite fitness:  32\n",
      "K:  111 elite fitness:  32\n",
      "K:  112 elite fitness:  32\n",
      "K:  113 elite fitness:  32\n",
      "K:  114 elite fitness:  32\n",
      "K:  115 elite fitness:  32\n",
      "K:  116 elite fitness:  32\n",
      "K:  117 elite fitness:  32\n",
      "K:  118 elite fitness:  32\n",
      "K:  119 elite fitness:  32\n",
      "K:  120 elite fitness:  32\n",
      "K:  121 elite fitness:  32\n",
      "K:  122 elite fitness:  32\n",
      "K:  123 elite fitness:  32\n",
      "K:  124 elite fitness:  32\n",
      "K:  125 elite fitness:  32\n",
      "K:  126 elite fitness:  32\n",
      "K:  127 elite fitness:  32\n",
      "K:  128 elite fitness:  32\n",
      "K:  129 elite fitness:  32\n",
      "K:  130 elite fitness:  32\n",
      "K:  131 elite fitness:  32\n",
      "K:  132 elite fitness:  32\n",
      "K:  133 elite fitness:  32\n",
      "K:  134 elite fitness:  32\n",
      "K:  135 elite fitness:  32\n",
      "K:  136 elite fitness:  32\n",
      "K:  137 elite fitness:  32\n",
      "K:  138 elite fitness:  32\n",
      "K:  139 elite fitness:  32\n",
      "K:  140 elite fitness:  32\n",
      "K:  141 elite fitness:  32\n",
      "K:  142 elite fitness:  32\n",
      "K:  143 elite fitness:  32\n",
      "K:  144 elite fitness:  32\n",
      "K:  145 elite fitness:  32\n",
      "K:  146 elite fitness:  32\n",
      "K:  147 elite fitness:  32\n",
      "K:  148 elite fitness:  32\n",
      "K:  149 elite fitness:  32\n",
      "K:  150 elite fitness:  32\n",
      "K:  151 elite fitness:  32\n",
      "K:  152 elite fitness:  32\n",
      "K:  153 elite fitness:  32\n",
      "K:  154 elite fitness:  32\n",
      "K:  155 elite fitness:  32\n",
      "K:  156 elite fitness:  32\n",
      "K:  157 elite fitness:  32\n",
      "K:  158 elite fitness:  32\n",
      "K:  159 elite fitness:  32\n",
      "K:  160 elite fitness:  32\n",
      "K:  161 elite fitness:  32\n",
      "K:  162 elite fitness:  32\n",
      "K:  163 elite fitness:  32\n",
      "K:  164 elite fitness:  32\n",
      "K:  165 elite fitness:  32\n",
      "K:  166 elite fitness:  32\n",
      "K:  167 elite fitness:  32\n",
      "K:  168 elite fitness:  32\n",
      "K:  169 elite fitness:  32\n",
      "K:  170 elite fitness:  32\n",
      "K:  171 elite fitness:  32\n",
      "K:  172 elite fitness:  32\n",
      "K:  173 elite fitness:  32\n",
      "K:  174 elite fitness:  32\n",
      "K:  175 elite fitness:  32\n",
      "K:  176 elite fitness:  32\n",
      "K:  177 elite fitness:  32\n",
      "K:  178 elite fitness:  32\n",
      "K:  179 elite fitness:  32\n",
      "K:  180 elite fitness:  32\n",
      "K:  181 elite fitness:  32\n",
      "K:  182 elite fitness:  32\n",
      "K:  183 elite fitness:  32\n",
      "K:  184 elite fitness:  32\n",
      "K:  185 elite fitness:  32\n",
      "K:  186 elite fitness:  32\n",
      "K:  187 elite fitness:  32\n",
      "K:  188 elite fitness:  32\n",
      "K:  189 elite fitness:  32\n",
      "K:  190 elite fitness:  32\n",
      "K:  191 elite fitness:  32\n",
      "K:  192 elite fitness:  32\n"
     ]
    },
    {
     "ename": "KeyboardInterrupt",
     "evalue": "",
     "output_type": "error",
     "traceback": [
      "\u001b[1;31m---------------------------------------------------------------------------\u001b[0m",
      "\u001b[1;31mKeyboardInterrupt\u001b[0m                         Traceback (most recent call last)",
      "\u001b[1;32m~\\AppData\\Local\\Temp\\ipykernel_9108\\1011644607.py\u001b[0m in \u001b[0;36m<module>\u001b[1;34m\u001b[0m\n\u001b[1;32m----> 1\u001b[1;33m \u001b[0melite\u001b[0m\u001b[1;33m,\u001b[0m \u001b[0melite_fitness\u001b[0m \u001b[1;33m=\u001b[0m \u001b[0msolve\u001b[0m\u001b[1;33m(\u001b[0m\u001b[1;36m50\u001b[0m\u001b[1;33m,\u001b[0m \u001b[1;36m0.5\u001b[0m\u001b[1;33m,\u001b[0m \u001b[1;36m0.5\u001b[0m\u001b[1;33m,\u001b[0m \u001b[1;36m0.7\u001b[0m\u001b[1;33m)\u001b[0m\u001b[1;33m\u001b[0m\u001b[1;33m\u001b[0m\u001b[0m\n\u001b[0m\u001b[0;32m      2\u001b[0m \u001b[0mprint\u001b[0m\u001b[1;33m(\u001b[0m\u001b[0melite\u001b[0m\u001b[1;33m,\u001b[0m \u001b[0melite_fitness\u001b[0m\u001b[1;33m)\u001b[0m\u001b[1;33m\u001b[0m\u001b[1;33m\u001b[0m\u001b[0m\n",
      "\u001b[1;32m~\\AppData\\Local\\Temp\\ipykernel_9108\\1982397588.py\u001b[0m in \u001b[0;36msolve\u001b[1;34m(n, pCrossover, pMutation, dominancePerc)\u001b[0m\n\u001b[0;32m     44\u001b[0m \u001b[1;33m\u001b[0m\u001b[0m\n\u001b[0;32m     45\u001b[0m             \u001b[0mnew_individuals\u001b[0m\u001b[1;33m.\u001b[0m\u001b[0mappend\u001b[0m\u001b[1;33m(\u001b[0m\u001b[0mnew_individual\u001b[0m\u001b[1;33m)\u001b[0m\u001b[1;33m\u001b[0m\u001b[1;33m\u001b[0m\u001b[0m\n\u001b[1;32m---> 46\u001b[1;33m             \u001b[0mfitness\u001b[0m\u001b[1;33m,\u001b[0m \u001b[0mfit_p_row\u001b[0m \u001b[1;33m=\u001b[0m \u001b[0mcalculate_fitness\u001b[0m\u001b[1;33m(\u001b[0m  \u001b[0mphenotype\u001b[0m\u001b[1;33m(\u001b[0m\u001b[0msudoku_matrix\u001b[0m\u001b[1;33m,\u001b[0m \u001b[0mnew_individual\u001b[0m\u001b[1;33m)\u001b[0m \u001b[1;33m)\u001b[0m\u001b[1;33m\u001b[0m\u001b[1;33m\u001b[0m\u001b[0m\n\u001b[0m\u001b[0;32m     47\u001b[0m             \u001b[0mnew_individuals_fitness\u001b[0m\u001b[1;33m.\u001b[0m\u001b[0mappend\u001b[0m\u001b[1;33m(\u001b[0m\u001b[0mfitness\u001b[0m\u001b[1;33m)\u001b[0m\u001b[1;33m\u001b[0m\u001b[1;33m\u001b[0m\u001b[0m\n\u001b[0;32m     48\u001b[0m             \u001b[0mnew_individuals_fitness_p_row\u001b[0m\u001b[1;33m.\u001b[0m\u001b[0mappend\u001b[0m\u001b[1;33m(\u001b[0m\u001b[0mfit_p_row\u001b[0m\u001b[1;33m)\u001b[0m\u001b[1;33m\u001b[0m\u001b[1;33m\u001b[0m\u001b[0m\n",
      "\u001b[1;32m~\\AppData\\Local\\Temp\\ipykernel_9108\\2367436002.py\u001b[0m in \u001b[0;36mphenotype\u001b[1;34m(sudoku_matrix, genotype_matrix)\u001b[0m\n\u001b[0;32m      2\u001b[0m     \u001b[0mfilled_matrix\u001b[0m \u001b[1;33m=\u001b[0m \u001b[0mnp\u001b[0m\u001b[1;33m.\u001b[0m\u001b[0mcopy\u001b[0m\u001b[1;33m(\u001b[0m\u001b[0msudoku_matrix\u001b[0m\u001b[1;33m)\u001b[0m\u001b[1;33m\u001b[0m\u001b[1;33m\u001b[0m\u001b[0m\n\u001b[0;32m      3\u001b[0m     \u001b[1;32mfor\u001b[0m \u001b[0mrow_idx\u001b[0m\u001b[1;33m,\u001b[0m \u001b[1;33m(\u001b[0m\u001b[0msudoku_row\u001b[0m\u001b[1;33m,\u001b[0m \u001b[0mgenotype_row\u001b[0m\u001b[1;33m)\u001b[0m \u001b[1;32min\u001b[0m \u001b[0menumerate\u001b[0m\u001b[1;33m(\u001b[0m\u001b[0mzip\u001b[0m\u001b[1;33m(\u001b[0m\u001b[0msudoku_matrix\u001b[0m\u001b[1;33m,\u001b[0m \u001b[0mgenotype_matrix\u001b[0m\u001b[1;33m)\u001b[0m\u001b[1;33m)\u001b[0m\u001b[1;33m:\u001b[0m\u001b[1;33m\u001b[0m\u001b[1;33m\u001b[0m\u001b[0m\n\u001b[1;32m----> 4\u001b[1;33m         \u001b[0mfilled_matrix\u001b[0m\u001b[1;33m[\u001b[0m\u001b[0mrow_idx\u001b[0m\u001b[1;33m,\u001b[0m \u001b[0msudoku_row\u001b[0m \u001b[1;33m==\u001b[0m \u001b[1;36m0\u001b[0m\u001b[1;33m]\u001b[0m \u001b[1;33m=\u001b[0m \u001b[0mgenotype_row\u001b[0m\u001b[1;33m\u001b[0m\u001b[1;33m\u001b[0m\u001b[0m\n\u001b[0m\u001b[0;32m      5\u001b[0m \u001b[1;33m\u001b[0m\u001b[0m\n\u001b[0;32m      6\u001b[0m     \u001b[1;32mreturn\u001b[0m \u001b[0mfilled_matrix\u001b[0m\u001b[1;33m\u001b[0m\u001b[1;33m\u001b[0m\u001b[0m\n",
      "\u001b[1;31mKeyboardInterrupt\u001b[0m: "
     ]
    }
   ],
   "source": [
    "elite, elite_fitness = solve(50, 0.5, 0.5, 0.7)\n",
    "print(elite, elite_fitness)"
   ]
  },
  {
   "cell_type": "code",
   "execution_count": null,
   "id": "140418f0",
   "metadata": {},
   "outputs": [],
   "source": [
    "print(np.random.choice(10, size=11, replace=False))"
   ]
  },
  {
   "cell_type": "code",
   "execution_count": null,
   "id": "eeb475b9",
   "metadata": {},
   "outputs": [],
   "source": [
    "sudoku_matrix = read_data()\n",
    "total, divided = calculate_fitness(sudoku_matrix)\n",
    "print(divided[8])\n",
    "print(total, divided)\n",
    "print(sudoku_matrix)"
   ]
  },
  {
   "cell_type": "code",
   "execution_count": null,
   "id": "ef1f8684",
   "metadata": {},
   "outputs": [],
   "source": [
    "#mejoras\n",
    "# 1. offspring by row\n",
    "# 2. sort parents and always choose the ones with highest scores"
   ]
  },
  {
   "cell_type": "code",
   "execution_count": null,
   "id": "7b3a5d1a",
   "metadata": {},
   "outputs": [],
   "source": [
    "print(p0_fitness)"
   ]
  },
  {
   "cell_type": "code",
   "execution_count": null,
   "id": "8f1c8a7e",
   "metadata": {},
   "outputs": [],
   "source": [
    "# Example p0 array and p0_fitness_array\n",
    "p0 = [np.array([1, 2, 3]), np.array([4, 5, 6]), np.array([7, 8, 9])]\n",
    "p0_fitness_array = np.array([0.8, 0.5, 0.9])\n",
    "\n",
    "# Sort both arrays based on p0_fitness_array in descending order\n",
    "sorted_indices = np.argsort(p0_fitness_array)[::-1]\n",
    "sorted_p0 = [p0[i] for i in sorted_indices]\n",
    "sorted_p0_fitness_array = p0_fitness_array[sorted_indices]\n",
    "\n",
    "print(\"Sorted p0 array:\", sorted_p0)\n",
    "print(\"Sorted p0_fitness_array:\", sorted_p0_fitness_array)"
   ]
  },
  {
   "cell_type": "code",
   "execution_count": null,
   "id": "0b0147c8",
   "metadata": {},
   "outputs": [],
   "source": [
    "pp = [1,2,3,4,5]\n",
    "pp[:4]"
   ]
  },
  {
   "cell_type": "code",
   "execution_count": null,
   "id": "5ba38eff",
   "metadata": {},
   "outputs": [],
   "source": []
  }
 ],
 "metadata": {
  "kernelspec": {
   "display_name": "Python 3 (ipykernel)",
   "language": "python",
   "name": "python3"
  },
  "language_info": {
   "codemirror_mode": {
    "name": "ipython",
    "version": 3
   },
   "file_extension": ".py",
   "mimetype": "text/x-python",
   "name": "python",
   "nbconvert_exporter": "python",
   "pygments_lexer": "ipython3",
   "version": "3.9.13"
  }
 },
 "nbformat": 4,
 "nbformat_minor": 5
}
