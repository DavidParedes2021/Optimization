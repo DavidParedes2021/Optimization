{
 "cells": [
  {
   "cell_type": "markdown",
   "metadata": {},
   "source": [
    "# Genetic Programming\n",
    "\n",
    "## David Omar Paredes Paredes y Abraham Maximiliano Ávalos Corrales"
   ]
  },
  {
   "cell_type": "code",
   "execution_count": 1,
   "metadata": {},
   "outputs": [],
   "source": [
    "import numpy             as np\n",
    "import pandas            as pd\n",
    "import matplotlib.pyplot as plt\n",
    "\n",
    "import GP as gp"
   ]
  },
  {
   "cell_type": "code",
   "execution_count": 2,
   "metadata": {},
   "outputs": [],
   "source": [
    "def sum(a, b):\n",
    "\treturn a + b\n",
    "def res(a, b):\n",
    "\treturn a - b\n",
    "def mul(a, b):\n",
    "\treturn a * b\n",
    "funcs = {\n",
    "\t'+':sum,\n",
    "\t'-':res,\n",
    "\t'*':mul\n",
    "}"
   ]
  },
  {
   "cell_type": "code",
   "execution_count": 5,
   "metadata": {},
   "outputs": [
    {
     "name": "stdout",
     "output_type": "stream",
     "text": [
      "5,2+,6-\n",
      "1\n",
      "5,2+,6-\n",
      "1\n"
     ]
    }
   ],
   "source": [
    "values = [5, 2, 6]\n",
    "root = gp.Function_N(res, label='-')\n",
    "root.leftChild  = gp.Function_N(sum, gp.Terminal_N(values[0]), gp.Terminal_N(values[1]), '+')\n",
    "root.rightChild = gp.Terminal_N(values[2])\n",
    "\n",
    "print(root)\n",
    "print(root.evaluate())\n",
    "\n",
    "values[0] = 4\n",
    "\n",
    "print(root)\n",
    "print(root.evaluate())"
   ]
  },
  {
   "cell_type": "code",
   "execution_count": 13,
   "metadata": {},
   "outputs": [
    {
     "name": "stdout",
     "output_type": "stream",
     "text": [
      "(100, 3)\n"
     ]
    }
   ],
   "source": [
    "df = pd.read_csv('data.csv').to_numpy()\n",
    "print(df.shape)"
   ]
  }
 ],
 "metadata": {
  "kernelspec": {
   "display_name": "Python 3",
   "language": "python",
   "name": "python3"
  },
  "language_info": {
   "codemirror_mode": {
    "name": "ipython",
    "version": 3
   },
   "file_extension": ".py",
   "mimetype": "text/x-python",
   "name": "python",
   "nbconvert_exporter": "python",
   "pygments_lexer": "ipython3",
   "version": "3.11.6"
  }
 },
 "nbformat": 4,
 "nbformat_minor": 2
}
