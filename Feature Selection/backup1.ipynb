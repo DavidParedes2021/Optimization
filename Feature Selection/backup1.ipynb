{
 "cells": [
  {
   "cell_type": "code",
   "execution_count": 10,
   "id": "8a5ff41f",
   "metadata": {},
   "outputs": [],
   "source": [
    "import numpy as np\n",
    "import pandas as pd"
   ]
  },
  {
   "cell_type": "code",
   "execution_count": 2,
   "id": "b9bc3b71",
   "metadata": {},
   "outputs": [],
   "source": [
    "def compare(fitness_a, fitness_b):\n",
    "    # if a dominates b, return will be 1, -1 if the contrary\n",
    "    # if there is no dominance, 0 will be returned\n",
    "    try:\n",
    "        m = (fitness_a[0] - fitness_b[0]) / (fitness_a[1] - fitness_b[1])\n",
    "    except ZeroDivisionError:\n",
    "        return 0\n",
    "    if m > 0:\n",
    "        if fitness_a[0] < fitness_b[0]:\n",
    "            return 1\n",
    "        return -1\n",
    "    return 0\n"
   ]
  },
  {
   "cell_type": "code",
   "execution_count": 3,
   "id": "b7b1c3ef",
   "metadata": {},
   "outputs": [],
   "source": [
    "def get_parents(parent_F:list):\n",
    "\tlevels  = np.array(parent_F)[:, 2]\n",
    "\tmax_idx = np.argmin(levels)\n",
    "\treturn parent_F[max_idx]"
   ]
  },
  {
   "cell_type": "code",
   "execution_count": 4,
   "id": "bdd08f32",
   "metadata": {},
   "outputs": [],
   "source": [
    "def mix_parents(parent_a:list, parent_b:list, ratio:float = 0.5, get_indexes:bool=False):\n",
    "\tgenotype_len = len(parent_a)\n",
    "\n",
    "\ta_idxs = set()\n",
    "\tacum = 0\n",
    "\tfor i in range(genotype_len):\n",
    "\t\tacum += ratio\n",
    "\t\tif acum >= 1:\n",
    "\t\t\tacum -= 1\n",
    "\t\t\ta_idxs.add(i)\n",
    "\tb_idxs = {i for i in range(genotype_len)} - a_idxs\n",
    "\n",
    "\ta_idxs = list(a_idxs)\n",
    "\tb_idxs = list(b_idxs)\n",
    "\tchild  = np.zeros((genotype_len), bool)\n",
    "\n",
    "\tchild[a_idxs] = parent_a[a_idxs].copy()\n",
    "\tchild[b_idxs] = parent_b[b_idxs].copy()\n",
    "\tif get_indexes:\n",
    "\t\treturn child, (a_idxs, b_idxs)\n",
    "\treturn child"
   ]
  },
  {
   "cell_type": "code",
   "execution_count": 5,
   "id": "36368e6c",
   "metadata": {},
   "outputs": [],
   "source": [
    "def NSGA2(fitness):\n",
    "    n = len(fitness)\n",
    "    levels = np.zeros(n)\n",
    "    dominates = [[] for _ in range(n)]\n",
    "    is_dominated_by = {}\n",
    "    for i in range(n):\n",
    "        is_dominated_by[i] = 0\n",
    "    for idx_first_point, first_point in enumerate(fitness):\n",
    "        for idx_second_point in range(idx_first_point+1, len(fitness)):\n",
    "            second_point = fitness[idx_second_point]\n",
    "            m = compare(first_point, second_point)\n",
    "            if m == 1: #first_point dominates\n",
    "                is_dominated_by[idx_second_point] = is_dominated_by.get(idx_second_point, 0) + 1\n",
    "                dominates[idx_first_point].append(idx_second_point)\n",
    "            elif m == -1:\n",
    "                is_dominated_by[idx_first_point] = is_dominated_by.get(idx_first_point, 0) + 1\n",
    "                dominates[idx_second_point].append(idx_first_point)\n",
    "        \n",
    "    #sorted_dict = dict(sorted(my_dict.items(), key=lambda item: item[1]))\n",
    "\n",
    "    curr_level = 0\n",
    "    while len(is_dominated_by) > 0:\n",
    "  \n",
    "        non_dominated_indices = [idx for idx, dominance_count in is_dominated_by.items() if dominance_count == 0]\n",
    "        for idx in non_dominated_indices:\n",
    "            \n",
    "            for dominated_idx in dominates[idx]:\n",
    "                is_dominated_by[dominated_idx] -= 1\n",
    "                \n",
    "            levels[idx] = curr_level\n",
    "            del is_dominated_by[idx]\n",
    "        curr_level+=1\n",
    "        \n",
    "    return levels\n",
    "    "
   ]
  },
  {
   "cell_type": "code",
   "execution_count": null,
   "id": "2435cd6b",
   "metadata": {},
   "outputs": [],
   "source": [
    "def get_fitness:\n",
    "    "
   ]
  },
  {
   "cell_type": "markdown",
   "id": "d03475e8",
   "metadata": {},
   "source": [
    "# Initial population"
   ]
  },
  {
   "cell_type": "code",
   "execution_count": 28,
   "id": "1b4b84fd",
   "metadata": {},
   "outputs": [],
   "source": [
    "def solve(n, pCrossover, pMutation):\n",
    "    #read csv\n",
    "    filename = 'wine.csv'  \n",
    "    df = pd.read_csv(filename)\n",
    "    num_features = df.shape[1] -1\n",
    "    \n",
    "    #generate p0\n",
    "    p0 = np.random.randint(2, size=(n, num_features))\n",
    "    print(p0)\n",
    "    print(p0[1][0],p0[1][1],p0[1][2])\n"
   ]
  },
  {
   "cell_type": "code",
   "execution_count": null,
   "id": "4be743df",
   "metadata": {},
   "outputs": [],
   "source": []
  },
  {
   "cell_type": "markdown",
   "id": "c0404eb6",
   "metadata": {},
   "source": [
    "# test functions"
   ]
  },
  {
   "cell_type": "code",
   "execution_count": 29,
   "id": "0d786854",
   "metadata": {},
   "outputs": [
    {
     "name": "stdout",
     "output_type": "stream",
     "text": [
      "[[1 1 1 0 0 0 1 0 0 0 0]\n",
      " [0 0 0 1 1 0 1 1 1 0 1]\n",
      " [0 1 0 0 1 0 1 0 0 1 1]\n",
      " [1 0 1 0 1 1 0 1 0 0 0]\n",
      " [1 0 1 1 1 1 1 1 0 0 0]\n",
      " [1 0 1 0 1 1 0 1 0 1 0]\n",
      " [1 1 0 1 1 1 1 1 0 1 1]\n",
      " [0 1 0 1 1 1 0 0 0 0 0]\n",
      " [1 0 0 1 1 1 1 1 1 0 0]\n",
      " [0 1 0 1 1 0 0 1 0 1 1]]\n",
      "0 0 0\n"
     ]
    }
   ],
   "source": [
    "solve(10,0.5,0.5)"
   ]
  },
  {
   "cell_type": "code",
   "execution_count": 15,
   "id": "654ca566",
   "metadata": {},
   "outputs": [],
   "source": [
    "def test_NSGA():\n",
    "    fitn = [\n",
    "        [1,2],\n",
    "        [5,3],\n",
    "        [6,5],\n",
    "        [4,2],\n",
    "        [2,4],\n",
    "        [3.88,4.14],\n",
    "        [3,3],\n",
    "        [2,1]    \n",
    "    ]\n",
    "\n",
    "    levels = NSGA2(fitn)\n",
    "    print(levels)"
   ]
  },
  {
   "cell_type": "code",
   "execution_count": null,
   "id": "1b8254ce",
   "metadata": {},
   "outputs": [],
   "source": []
  }
 ],
 "metadata": {
  "kernelspec": {
   "display_name": "Python 3 (ipykernel)",
   "language": "python",
   "name": "python3"
  },
  "language_info": {
   "codemirror_mode": {
    "name": "ipython",
    "version": 3
   },
   "file_extension": ".py",
   "mimetype": "text/x-python",
   "name": "python",
   "nbconvert_exporter": "python",
   "pygments_lexer": "ipython3",
   "version": "3.9.13"
  }
 },
 "nbformat": 4,
 "nbformat_minor": 5
}
