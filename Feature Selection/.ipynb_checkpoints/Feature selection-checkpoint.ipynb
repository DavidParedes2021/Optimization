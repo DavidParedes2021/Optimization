{
 "cells": [
  {
   "cell_type": "code",
   "execution_count": 2,
   "id": "8a5ff41f",
   "metadata": {},
   "outputs": [],
   "source": [
    "import numpy as np"
   ]
  },
  {
   "cell_type": "code",
   "execution_count": 3,
   "id": "b9bc3b71",
   "metadata": {},
   "outputs": [],
   "source": [
    "def compare(fitness_a, fitness_b):\n",
    "    # if a dominates b, return will be 1, -1 if the contrary\n",
    "    # if there is no dominance, 0 will be returned\n",
    "    try:\n",
    "        m = (fitness_a[0] - fitness_b[0]) / (fitness_a[1] - fitness_b[1])\n",
    "    except ZeroDivisionError:\n",
    "        return 0\n",
    "    if m > 0:\n",
    "        if fitness_a[0] < fitness_b[0]:\n",
    "            return 1\n",
    "        return -1\n",
    "    return 0\n"
   ]
  },
  {
   "cell_type": "code",
   "execution_count": null,
   "id": "b7b1c3ef",
   "metadata": {},
   "outputs": [],
   "source": []
  }
 ],
 "metadata": {
  "kernelspec": {
   "display_name": "Python 3 (ipykernel)",
   "language": "python",
   "name": "python3"
  },
  "language_info": {
   "codemirror_mode": {
    "name": "ipython",
    "version": 3
   },
   "file_extension": ".py",
   "mimetype": "text/x-python",
   "name": "python",
   "nbconvert_exporter": "python",
   "pygments_lexer": "ipython3",
   "version": "3.9.13"
  }
 },
 "nbformat": 4,
 "nbformat_minor": 5
}
