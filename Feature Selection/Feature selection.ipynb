{
 "cells": [
  {
   "cell_type": "code",
   "execution_count": 1,
   "id": "8a5ff41f",
   "metadata": {},
   "outputs": [],
   "source": [
    "import numpy as np"
   ]
  },
  {
   "cell_type": "code",
   "execution_count": 2,
   "id": "b9bc3b71",
   "metadata": {},
   "outputs": [],
   "source": [
    "def compare(fitness_a, fitness_b):\n",
    "    # if a dominates b, return will be 1, -1 if the contrary\n",
    "    # if there is no dominance, 0 will be returned\n",
    "    try:\n",
    "        m = (fitness_a[0] - fitness_b[0]) / (fitness_a[1] - fitness_b[1])\n",
    "    except ZeroDivisionError:\n",
    "        return 0\n",
    "    if m > 0:\n",
    "        if fitness_a[0] < fitness_b[0]:\n",
    "            return 1\n",
    "        return -1\n",
    "    return 0\n"
   ]
  },
  {
   "cell_type": "code",
   "execution_count": 3,
   "id": "b7b1c3ef",
   "metadata": {},
   "outputs": [],
   "source": [
    "def get_parents(parent_F:list):\n",
    "\tlevels  = np.array(parent_F)[:, 2]\n",
    "\tmax_idx = np.argmin(levels)\n",
    "\treturn parent_F[max_idx]"
   ]
  },
  {
   "cell_type": "code",
   "execution_count": 4,
   "id": "bdd08f32",
   "metadata": {},
   "outputs": [],
   "source": [
    "def mix_parents(parent_a:list, parent_b:list, ratio:float = 0.5, get_indexes:bool=False):\n",
    "\tgenotype_len = len(parent_a)\n",
    "\n",
    "\ta_idxs = set()\n",
    "\tacum = 0\n",
    "\tfor i in range(genotype_len):\n",
    "\t\tacum += ratio\n",
    "\t\tif acum >= 1:\n",
    "\t\t\tacum -= 1\n",
    "\t\t\ta_idxs.add(i)\n",
    "\tb_idxs = {i for i in range(genotype_len)} - a_idxs\n",
    "\n",
    "\ta_idxs = list(a_idxs)\n",
    "\tb_idxs = list(b_idxs)\n",
    "\tchild  = np.zeros((genotype_len), bool)\n",
    "\n",
    "\tchild[a_idxs] = parent_a[a_idxs].copy()\n",
    "\tchild[b_idxs] = parent_b[b_idxs].copy()\n",
    "\tif get_indexes:\n",
    "\t\treturn child, (a_idxs, b_idxs)\n",
    "\treturn child"
   ]
  }
 ],
 "metadata": {
  "kernelspec": {
   "display_name": "Python 3 (ipykernel)",
   "language": "python",
   "name": "python3"
  },
  "language_info": {
   "codemirror_mode": {
    "name": "ipython",
    "version": 3
   },
   "file_extension": ".py",
   "mimetype": "text/x-python",
   "name": "python",
   "nbconvert_exporter": "python",
   "pygments_lexer": "ipython3",
   "version": "3.10.10"
  }
 },
 "nbformat": 4,
 "nbformat_minor": 5
}
