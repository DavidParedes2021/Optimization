{
 "cells": [
  {
   "cell_type": "code",
   "execution_count": 1,
   "id": "8a5ff41f",
   "metadata": {},
   "outputs": [],
   "source": [
    "import numpy as np\n",
    "import pandas as pd"
   ]
  },
  {
   "cell_type": "code",
   "execution_count": 2,
   "id": "b9bc3b71",
   "metadata": {},
   "outputs": [],
   "source": [
    "def compare(fitness_a, fitness_b):\n",
    "    # if a dominates b, return will be 1, -1 if the contrary\n",
    "    # if there is no dominance, 0 will be returned\n",
    "    try:\n",
    "        m = (fitness_a[0] - fitness_b[0]) / (fitness_a[1] - fitness_b[1])\n",
    "    except ZeroDivisionError:\n",
    "        return 0\n",
    "    if m > 0:\n",
    "        if fitness_a[0] < fitness_b[0]:\n",
    "            return 1\n",
    "        return -1\n",
    "    return 0\n"
   ]
  },
  {
   "cell_type": "code",
   "execution_count": 3,
   "id": "b7b1c3ef",
   "metadata": {},
   "outputs": [],
   "source": [
    "def get_parents(parent_F:list, parent_G:list=None, parent_idx:list=None):\n",
    "\tlevels  = np.array(parent_F)[:, 2]\n",
    "\tmax_idx = np.argmin(levels)\n",
    "\n",
    "\tif parent_G is not None:\n",
    "\t\treturn parent_G[max_idx]\n",
    "\tif parent_idx is not None:\n",
    "\t\treturn parent_idx[max_idx]\n",
    "\treturn max_idx"
   ]
  },
  {
   "cell_type": "code",
   "execution_count": 4,
   "id": "bdd08f32",
   "metadata": {},
   "outputs": [],
   "source": [
    "def mix_parents(parent_a:list, parent_b:list, ratio:float = 0.5, get_indexes:bool=False):\n",
    "\tgenotype_len = len(parent_a)\n",
    "\n",
    "\ta_idxs = set()\n",
    "\tacum = 0\n",
    "\tfor i in range(genotype_len):\n",
    "\t\tacum += ratio\n",
    "\t\tif acum >= 1:\n",
    "\t\t\tacum -= 1\n",
    "\t\t\ta_idxs.add(i)\n",
    "\tb_idxs = {i for i in range(genotype_len)} - a_idxs\n",
    "\n",
    "\ta_idxs = list(a_idxs)\n",
    "\tb_idxs = list(b_idxs)\n",
    "\tchild  = np.zeros((genotype_len), bool)\n",
    "\n",
    "\tchild[a_idxs] = parent_a[a_idxs].copy()\n",
    "\tchild[b_idxs] = parent_b[b_idxs].copy()\n",
    "\tif get_indexes:\n",
    "\t\treturn child, (a_idxs, b_idxs)\n",
    "\treturn child"
   ]
  },
  {
   "cell_type": "code",
   "execution_count": 5,
   "id": "c1ab1681",
   "metadata": {},
   "outputs": [],
   "source": [
    "def NSGA2(fitness):\n",
    "    n = len(fitness)\n",
    "    levels = np.zeros(n)\n",
    "    dominates = [[] for _ in range(n)]\n",
    "    is_dominated_by = {}\n",
    "    for i in range(n):\n",
    "        is_dominated_by[i] = 0\n",
    "    for idx_first_point, first_point in enumerate(fitness):\n",
    "        for idx_second_point in range(idx_first_point+1, len(fitness)):\n",
    "            second_point = fitness[idx_second_point]\n",
    "            m = compare(first_point, second_point)\n",
    "            if m == 1: #first_point dominates\n",
    "                is_dominated_by[idx_second_point] = is_dominated_by.get(idx_second_point, 0) + 1\n",
    "                dominates[idx_first_point].append(idx_second_point)\n",
    "            elif m == -1:\n",
    "                is_dominated_by[idx_first_point] = is_dominated_by.get(idx_first_point, 0) + 1\n",
    "                dominates[idx_second_point].append(idx_first_point)\n",
    "        \n",
    "    #sorted_dict = dict(sorted(my_dict.items(), key=lambda item: item[1]))\n",
    "\n",
    "    curr_level = 0\n",
    "    while len(is_dominated_by) > 0:\n",
    "  \n",
    "        non_dominated_indices = [idx for idx, dominance_count in is_dominated_by.items() if dominance_count == 0]\n",
    "        for idx in non_dominated_indices:\n",
    "            \n",
    "            for dominated_idx in dominates[idx]:\n",
    "                is_dominated_by[dominated_idx] -= 1\n",
    "                \n",
    "            levels[idx] = curr_level\n",
    "            del is_dominated_by[idx]\n",
    "        curr_level+=1\n",
    "        \n",
    "    return levels\n",
    "    "
   ]
  },
  {
   "cell_type": "code",
   "execution_count": 6,
   "id": "cc5bf967",
   "metadata": {},
   "outputs": [
    {
     "ename": "SyntaxError",
     "evalue": "invalid syntax (2632364954.py, line 1)",
     "output_type": "error",
     "traceback": [
      "\u001b[1;36m  Cell \u001b[1;32mIn[6], line 1\u001b[1;36m\u001b[0m\n\u001b[1;33m    def get_fitness:\u001b[0m\n\u001b[1;37m                   ^\u001b[0m\n\u001b[1;31mSyntaxError\u001b[0m\u001b[1;31m:\u001b[0m invalid syntax\n"
     ]
    }
   ],
   "source": [
    "def get_fitness:\n",
    "    "
   ]
  },
  {
   "cell_type": "markdown",
   "id": "727912b0",
   "metadata": {},
   "source": [
    "# Initial population"
   ]
  },
  {
   "cell_type": "code",
   "execution_count": null,
   "id": "7e840ba5",
   "metadata": {},
   "outputs": [],
   "source": [
    "def solve(n, pCrossover, pMutation):\n",
    "    #read csv\n",
    "    filename = 'wine.csv'  \n",
    "    df = pd.read_csv(filename)\n",
    "    num_features = df.shape[1] -1\n",
    "    \n",
    "    #generate p0\n",
    "    p0 = np.random.randint(2, size=(n, num_features))\n",
    "    print(p0)\n",
    "    print(p0[1][0],p0[1][1])\n"
   ]
  },
  {
   "cell_type": "code",
   "execution_count": 63,
   "id": "bdcee2c6",
   "metadata": {},
   "outputs": [],
   "source": [
    "class mock_solver:\n",
    "\tdef __init__(self):\n",
    "\t\tself.mutations = 0\n",
    "\t\tself.crosses   = 0\n",
    "\t\tself.updates   = 0\n",
    "\n",
    "\tdef generate_initial_population(self, p_size) -> list:\n",
    "\t\treturn [None for i in range(p_size)]\n",
    "\n",
    "\tdef compare(self, fitness_a, fitness_b):\n",
    "\t\t...\n",
    "\n",
    "\tdef get_parents(self, parent_F:list, parent_G:list=None, parent_idx:list=None):\n",
    "\t\treturn 0\n",
    "\n",
    "\tdef mix_parents(self, parent_a, parent_b, ratio:float=0.5):\n",
    "\t\tself.crosses   += 1\n",
    "\tdef mutate(self, g):\n",
    "\t\tself.mutations += 1\n",
    "\n",
    "\tdef get_fitness(self, G:list, F:list=None):\n",
    "\t\tif F is None:\n",
    "\t\t\treturn [0 for i in range(len(G))]\n",
    "\n",
    "\tdef get_elite(self, G:list, F:list) -> (list, list):\n",
    "\t\treturn ([], [])\n",
    "\n",
    "\tdef solved(self):\n",
    "\t\treturn False\n",
    "\n",
    "\tdef deep_copy(self, G, population:bool=True):\n",
    "\t\tif population:\n",
    "\t\t\tself.updates += 1\n",
    "\t\t\treturn [None for i in enumerate(G)]\n",
    "\t\treturn None\n",
    "\n",
    "\tdef has_progress_metric(self):\n",
    "\t\treturn False\n",
    "\tdef get_progress_metric(self, F:list):\n",
    "\t\t...\n",
    "\tdef get_progress_max(self, ):\n",
    "\t\t...\n",
    "\n",
    "\tdef __str__(self):\n",
    "\t\tmut_ratio   = self.mutations / self.updates\n",
    "\t\tcross_ratio = self.crosses   / self.updates\n",
    "\n",
    "\t\tret_string  = f'Mock test of {self.updates} iterations'\n",
    "\t\tret_string += f'has a {mut_ratio:.2f} mutation and {cross_ratio:.2f} cross ratio'\n",
    "\n",
    "\t\treturn ret_string"
   ]
  },
  {
   "cell_type": "code",
   "execution_count": 65,
   "id": "24c75f20",
   "metadata": {},
   "outputs": [
    {
     "name": "stdout",
     "output_type": "stream",
     "text": [
      "\\ Iteration:[####################]1000:100.0%\n",
      "Finished!\n",
      "Mock test of 1000 iterationshas a 25.07 mutation and 25.04 cross ratio\n"
     ]
    }
   ],
   "source": [
    "def solve_genetic(\n",
    "\tn\n",
    "\t,solver\n",
    "\t,max_it:int       = 1000\n",
    "\t,pCross:float     = 0.5\n",
    "\t,pMut:float       = 0.5\n",
    "\t,tournament_n:int = 3\n",
    "\t,rng_gen=np.random.default_rng\n",
    "\t# Formatting options for progress bar\n",
    "\t,MAX_F_LEN:int = 30\n",
    "\t,MAX_K_LEN:int = 20\n",
    "\t,SPINNER = ['\\\\', '|', '/', '-']\n",
    "):\n",
    "\trng = rng_gen()\n",
    "\n",
    "\tSPINNER_LEN = len(SPINNER)\n",
    "\n",
    "\tG  = solver.generate_initial_population(n)\n",
    "\tGi = [None for i in range(n)]\n",
    "\tF  = solver.get_fitness(G)\n",
    "\n",
    "\telite, Fe = solver.get_elite(G, F)\n",
    "\n",
    "\tfor k in range(1, max_it+1):\n",
    "\t\tif solver.solved(): break\n",
    "\n",
    "\t\tfor i, gntype in enumerate(G):\n",
    "\t\t\tif rng.random() < pCross:\n",
    "\t\t\t\tparent_candidates_idx = rng.integers(low=0, high=n, size=tournament_n)\n",
    "\t\t\t\tparent_idx = solver.get_parents(\n",
    "\t\t\t\t\t[F[idx] for idx in parent_candidates_idx]\n",
    "\t\t\t\t\t,parent_idx=parent_candidates_idx\n",
    "\t\t\t\t)\n",
    "\t\t\t\tGi[i] = solver.mix_parents(gntype, G[parent_idx])\n",
    "\t\t\telse:\n",
    "\t\t\t\tGi[i] = solver.deep_copy(gntype, population=False)\n",
    "\n",
    "\t\t\tif rng.random() < pMut:\n",
    "\t\t\t\tGi[i] = solver.mutate(gntype)\n",
    "\t\t#-----------\n",
    "\t\t\n",
    "\t\tFi = solver.get_fitness(Gi)\n",
    "\n",
    "\t\telite_i, Fe_i = solver.get_elite(Gi, Fi)\n",
    "\t\telite, Fe     = solver.get_elite(elite + elite_i,Fe + Fe_i)\n",
    "\n",
    "\t\tG = solver.deep_copy(Gi)\n",
    "\t\tF = solver.get_fitness(G)\n",
    "\n",
    "\t\tif k%10 == 1 or k==max_it:\n",
    "\t\t\tspinner_idx:int = int(k/10)%SPINNER_LEN\n",
    "\t\t\tk_percentage    = k/float(max_it)*100\n",
    "\t\t\tfilled_k = int(MAX_K_LEN * k  // max_it)\n",
    "\n",
    "\t\t\tk_bar = '#'*filled_k + '-'*(MAX_K_LEN - filled_k)\n",
    "\t\t\t\n",
    "\t\t\tprint(f'\\r{SPINNER[spinner_idx]}', end='')\n",
    "\t\t\tprint(f' Iteration:[{k_bar}]{max_it}:{k_percentage:.1f}%', end='\\r')\n",
    "\t\t\tif solver.has_progress_metric():\n",
    "\t\t\t\t\n",
    "\t#-------------\n",
    "\tprint('\\nFinished!')\n",
    "\treturn elite\n",
    "\n",
    "solver = mock_solver()\n",
    "\n",
    "solve_genetic(50, solver)\n",
    "print(solver)"
   ]
  },
  {
   "cell_type": "markdown",
   "id": "a92dd94c",
   "metadata": {},
   "source": [
    "# test functions"
   ]
  },
  {
   "cell_type": "code",
   "execution_count": null,
   "id": "bfad34fa",
   "metadata": {},
   "outputs": [
    {
     "name": "stdout",
     "output_type": "stream",
     "text": [
      "1\n"
     ]
    }
   ],
   "source": [
    "solve(10,0.5,0.5)"
   ]
  },
  {
   "cell_type": "code",
   "execution_count": null,
   "id": "04154648",
   "metadata": {},
   "outputs": [],
   "source": [
    "def test_NSGA():\n",
    "    fitn = [\n",
    "        [1,2],\n",
    "        [5,3],\n",
    "        [6,5],\n",
    "        [4,2],\n",
    "        [2,4],\n",
    "        [3.88,4.14],\n",
    "        [3,3],\n",
    "        [2,1]    \n",
    "    ]\n",
    "\n",
    "    levels = NSGA2(fitn)\n",
    "    print(levels)"
   ]
  },
  {
   "cell_type": "code",
   "execution_count": null,
   "id": "4f7938e7",
   "metadata": {},
   "outputs": [],
   "source": []
  }
 ],
 "metadata": {
  "kernelspec": {
   "display_name": "Python 3 (ipykernel)",
   "language": "python",
   "name": "python3"
  },
  "language_info": {
   "codemirror_mode": {
    "name": "ipython",
    "version": 3
   },
   "file_extension": ".py",
   "mimetype": "text/x-python",
   "name": "python",
   "nbconvert_exporter": "python",
   "pygments_lexer": "ipython3",
   "version": "3.9.13"
  }
 },
 "nbformat": 4,
 "nbformat_minor": 5
}
