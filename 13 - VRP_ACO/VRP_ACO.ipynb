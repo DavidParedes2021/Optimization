{
 "cells": [
  {
   "cell_type": "code",
   "execution_count": 1,
   "id": "ae5b1c40",
   "metadata": {},
   "outputs": [],
   "source": [
    "import numpy as np\n",
    "from ACO3 import AntColonyOptimization"
   ]
  },
  {
   "cell_type": "code",
   "execution_count": 2,
   "id": "3dd1a0f4",
   "metadata": {},
   "outputs": [
    {
     "name": "stdout",
     "output_type": "stream",
     "text": [
      "part COMMENT : (Augerat et al\n",
      "part  No of trucks: 9\n",
      "Name: A-n63-k9\n",
      "Number of Trucks: 9\n",
      "Dimension: 63\n",
      "Capacity: 100\n",
      "Depot coordinates: (91.0, 93.0)\n",
      "Customer demands: [4, 18, 22, 14, 5, 9, 7, 20, 19, 7, 18, 20, 2, 11, 10, 5, 21, 20, 1, 15, 15, 14, 19, 22, 21, 22, 6, 24, 14, 14, 2, 15, 21, 15, 6, 23, 14, 26, 15, 15, 23, 7, 22, 26, 20, 3, 2, 15, 2, 21, 12, 4, 10, 23, 4, 24, 17, 2, 20, 18, 19, 8]\n",
      "Customer distances: [[ 0.         88.29496022 44.27188724 ... 76.15773106 60.46486583\n",
      "  38.83297568]\n",
      " [88.29496022  0.         44.40720662 ... 26.90724809 38.62641583\n",
      "  80.04998438]\n",
      " [44.27188724 44.40720662  0.         ... 33.9411255  21.54065923\n",
      "  41.61730409]\n",
      " ...\n",
      " [76.15773106 26.90724809 33.9411255  ...  0.         16.4924225\n",
      "  58.        ]\n",
      " [60.46486583 38.62641583 21.54065923 ... 16.4924225   0.\n",
      "  42.19004622]\n",
      " [38.83297568 80.04998438 41.61730409 ... 58.         42.19004622\n",
      "   0.        ]]\n",
      "Customer coordinates: [(7.0, 5.0), (27.0, 91.0), (21.0, 47.0), (33.0, 11.0), (19.0, 99.0), (59.0, 25.0), (69.0, 79.0), (11.0, 73.0), (21.0, 35.0), (59.0, 45.0), (99.0, 81.0), (71.0, 47.0), (53.0, 83.0), (87.0, 1.0), (79.0, 67.0), (59.0, 65.0), (67.0, 21.0), (27.0, 1.0), (81.0, 93.0), (59.0, 89.0), (95.0, 23.0), (73.0, 25.0), (41.0, 25.0), (3.0, 65.0), (59.0, 83.0), (83.0, 97.0), (5.0, 83.0), (71.0, 35.0), (37.0, 97.0), (29.0, 93.0), (19.0, 21.0), (83.0, 13.0), (97.0, 67.0), (31.0, 83.0), (65.0, 17.0), (19.0, 63.0), (59.0, 23.0), (17.0, 25.0), (45.0, 27.0), (89.0, 7.0), (19.0, 41.0), (23.0, 39.0), (23.0, 21.0), (83.0, 61.0), (11.0, 93.0), (17.0, 11.0), (35.0, 11.0), (21.0, 59.0), (21.0, 69.0), (71.0, 13.0), (63.0, 13.0), (49.0, 21.0), (83.0, 31.0), (41.0, 97.0), (85.0, 15.0), (77.0, 73.0), (57.0, 1.0), (83.0, 11.0), (1.0, 75.0), (45.0, 71.0), (41.0, 55.0), (45.0, 13.0)]\n"
     ]
    }
   ],
   "source": [
    "class CVRPInstance:\n",
    "    def __init__(self):\n",
    "        self.name = \"\"\n",
    "        self.num_trucks = 0\n",
    "        self.dimension = 0\n",
    "        self.capacity = 0\n",
    "        self.depot_x = 0\n",
    "        self.depot_y = 0\n",
    "        self.customer_demands = []\n",
    "        self.customer_x = []\n",
    "        self.customer_y = []\n",
    "        self.distances = []\n",
    "\n",
    "def read_cvrp_instance(file_path):\n",
    "    instance = CVRPInstance()\n",
    "\n",
    "    with open(file_path, 'r') as file:\n",
    "        lines = file.readlines()\n",
    "\n",
    "        # Parsing basic information\n",
    "        instance.name = lines[0].split(\":\")[1].strip()\n",
    "\n",
    "        # Extracting the number of trucks from the comment\n",
    "        comment_parts = lines[1].split(\",\")\n",
    "        for part in comment_parts:\n",
    "            print(\"part\", part)\n",
    "            if \"No of trucks\" in part:\n",
    "                instance.num_trucks = int(part.split()[-1])\n",
    "                break\n",
    "\n",
    "        instance.dimension = int(lines[3].split(\":\")[1])\n",
    "        instance.capacity = int(lines[5].split(\":\")[1])\n",
    "\n",
    "        # Parsing depot coordinates\n",
    "        instance.depot_x, instance.depot_y = map(float, lines[7].split()[1:])\n",
    "\n",
    "        # Parsing customer information\n",
    "        for line in lines[8:8 + instance.dimension]:\n",
    "            if line.startswith(\"DEMAND_SECTION\"):\n",
    "                break\n",
    "            _, x, y = map(float, line.split())\n",
    "            instance.customer_x.append(x)\n",
    "            instance.customer_y.append(y)\n",
    "\n",
    "        for line in lines[8 + instance.dimension+1:8 + instance.dimension+1+ instance.dimension]:\n",
    "            if line.startswith(\"DEPOT_SECTION\"):\n",
    "                break\n",
    "            _, demand = map(int, line.split())\n",
    "            instance.customer_demands.append(demand)\n",
    "            \n",
    "        # Calculate distances based on Euclidean distance\n",
    "        instance.distances = np.zeros((instance.dimension-1, instance.dimension-1))\n",
    "        for i in range(instance.dimension-1):\n",
    "            for j in range(instance.dimension-1):\n",
    "                instance.distances[i][j] = np.sqrt((instance.customer_x[i] - instance.customer_x[j])**2 +\n",
    "                                                  (instance.customer_y[i] - instance.customer_y[j])**2)\n",
    "\n",
    "    return instance\n",
    "\n",
    "# Example usage\n",
    "file_path = \"Vrp-Set-A\\A\\A-n63-k9.vrp\"\n",
    "cvrp_instance = read_cvrp_instance(file_path)\n",
    "\n",
    "# Accessing instance attributes\n",
    "print(\"Name:\", cvrp_instance.name)\n",
    "print(\"Number of Trucks:\", cvrp_instance.num_trucks)\n",
    "print(\"Dimension:\", cvrp_instance.dimension)\n",
    "print(\"Capacity:\", cvrp_instance.capacity)\n",
    "print(\"Depot coordinates:\", (cvrp_instance.depot_x, cvrp_instance.depot_y))\n",
    "print(\"Customer demands:\", cvrp_instance.customer_demands)\n",
    "print(\"Customer distances:\", cvrp_instance.distances)\n",
    "print(\"Customer coordinates:\", list(zip(cvrp_instance.customer_x, cvrp_instance.customer_y)))\n"
   ]
  },
  {
   "cell_type": "code",
   "execution_count": 3,
   "id": "074c3c0e",
   "metadata": {},
   "outputs": [
    {
     "name": "stdout",
     "output_type": "stream",
     "text": [
      "part COMMENT : (Augerat et al\n",
      "part  No of trucks: 5\n"
     ]
    },
    {
     "ename": "TypeError",
     "evalue": "unsupported operand type(s) for /=: 'NoneType' and 'NoneType'",
     "output_type": "error",
     "traceback": [
      "\u001b[1;31m---------------------------------------------------------------------------\u001b[0m",
      "\u001b[1;31mTypeError\u001b[0m                                 Traceback (most recent call last)",
      "\u001b[1;32m~\\AppData\\Local\\Temp\\ipykernel_4244\\2979119027.py\u001b[0m in \u001b[0;36m<module>\u001b[1;34m\u001b[0m\n\u001b[0;32m     21\u001b[0m \u001b[1;33m\u001b[0m\u001b[0m\n\u001b[0;32m     22\u001b[0m \u001b[1;31m# Solve the CVRP using Ant Colony Optimization\u001b[0m\u001b[1;33m\u001b[0m\u001b[1;33m\u001b[0m\u001b[0m\n\u001b[1;32m---> 23\u001b[1;33m \u001b[0mbest_solution\u001b[0m\u001b[1;33m,\u001b[0m \u001b[0mbest_length\u001b[0m \u001b[1;33m=\u001b[0m \u001b[0maco_solver\u001b[0m\u001b[1;33m.\u001b[0m\u001b[0msolve\u001b[0m\u001b[1;33m(\u001b[0m\u001b[1;33m)\u001b[0m\u001b[1;33m\u001b[0m\u001b[1;33m\u001b[0m\u001b[0m\n\u001b[0m\u001b[0;32m     24\u001b[0m \u001b[1;33m\u001b[0m\u001b[0m\n\u001b[0;32m     25\u001b[0m \u001b[1;31m# Display the best solution and its length\u001b[0m\u001b[1;33m\u001b[0m\u001b[1;33m\u001b[0m\u001b[0m\n",
      "\u001b[1;32m~\\Optimization\\13 - VRP_ACO\\ACO3.py\u001b[0m in \u001b[0;36msolve\u001b[1;34m(self)\u001b[0m\n\u001b[0;32m     68\u001b[0m                     \u001b[0mprobs\u001b[0m \u001b[1;33m=\u001b[0m \u001b[0mself\u001b[0m\u001b[1;33m.\u001b[0m\u001b[0m__move_prob\u001b[0m\u001b[1;33m(\u001b[0m\u001b[0mant_path\u001b[0m\u001b[1;33m[\u001b[0m\u001b[0mi\u001b[0m\u001b[1;33m]\u001b[0m\u001b[1;33m[\u001b[0m\u001b[1;33m:\u001b[0m\u001b[0mj\u001b[0m\u001b[1;33m]\u001b[0m\u001b[1;33m,\u001b[0m \u001b[0mint\u001b[0m\u001b[1;33m(\u001b[0m\u001b[0mant_path\u001b[0m\u001b[1;33m[\u001b[0m\u001b[0mi\u001b[0m\u001b[1;33m]\u001b[0m\u001b[1;33m[\u001b[0m\u001b[0mj\u001b[0m \u001b[1;33m-\u001b[0m \u001b[1;36m1\u001b[0m\u001b[1;33m]\u001b[0m\u001b[1;33m)\u001b[0m\u001b[1;33m,\u001b[0m \u001b[0mcapacity_left\u001b[0m\u001b[1;33m)\u001b[0m\u001b[1;33m\u001b[0m\u001b[1;33m\u001b[0m\u001b[0m\n\u001b[0;32m     69\u001b[0m                     \u001b[1;31m# Normalize probabilities to ensure they sum to 1\u001b[0m\u001b[1;33m\u001b[0m\u001b[1;33m\u001b[0m\u001b[0m\n\u001b[1;32m---> 70\u001b[1;33m                     \u001b[0mprobs\u001b[0m \u001b[1;33m/=\u001b[0m \u001b[0mnp\u001b[0m\u001b[1;33m.\u001b[0m\u001b[0msum\u001b[0m\u001b[1;33m(\u001b[0m\u001b[0mprobs\u001b[0m\u001b[1;33m)\u001b[0m\u001b[1;33m\u001b[0m\u001b[1;33m\u001b[0m\u001b[0m\n\u001b[0m\u001b[0;32m     71\u001b[0m                     \u001b[0mant_path\u001b[0m\u001b[1;33m[\u001b[0m\u001b[0mi\u001b[0m\u001b[1;33m]\u001b[0m\u001b[1;33m[\u001b[0m\u001b[0mj\u001b[0m\u001b[1;33m]\u001b[0m \u001b[1;33m=\u001b[0m \u001b[0mnp\u001b[0m\u001b[1;33m.\u001b[0m\u001b[0mrandom\u001b[0m\u001b[1;33m.\u001b[0m\u001b[0mchoice\u001b[0m\u001b[1;33m(\u001b[0m\u001b[0mnp\u001b[0m\u001b[1;33m.\u001b[0m\u001b[0marange\u001b[0m\u001b[1;33m(\u001b[0m\u001b[0mself\u001b[0m\u001b[1;33m.\u001b[0m\u001b[0mdist_mtx\u001b[0m\u001b[1;33m.\u001b[0m\u001b[0mshape\u001b[0m\u001b[1;33m[\u001b[0m\u001b[1;36m0\u001b[0m\u001b[1;33m]\u001b[0m\u001b[1;33m)\u001b[0m\u001b[1;33m,\u001b[0m \u001b[0mp\u001b[0m\u001b[1;33m=\u001b[0m\u001b[0mprobs\u001b[0m\u001b[1;33m)\u001b[0m\u001b[1;33m\u001b[0m\u001b[1;33m\u001b[0m\u001b[0m\n\u001b[0;32m     72\u001b[0m                     \u001b[0mcapacity_left\u001b[0m \u001b[1;33m-=\u001b[0m \u001b[0mself\u001b[0m\u001b[1;33m.\u001b[0m\u001b[0mdemand\u001b[0m\u001b[1;33m[\u001b[0m\u001b[0mant_path\u001b[0m\u001b[1;33m[\u001b[0m\u001b[0mi\u001b[0m\u001b[1;33m]\u001b[0m\u001b[1;33m[\u001b[0m\u001b[0mj\u001b[0m\u001b[1;33m]\u001b[0m\u001b[1;33m]\u001b[0m\u001b[1;33m\u001b[0m\u001b[1;33m\u001b[0m\u001b[0m\n",
      "\u001b[1;31mTypeError\u001b[0m: unsupported operand type(s) for /=: 'NoneType' and 'NoneType'"
     ]
    }
   ],
   "source": [
    "def plot_function(aco_instance):\n",
    "    pass\n",
    "\n",
    "# Load your CVRP instance\n",
    "file_path = \"Vrp-Set-A\\A\\A-n32-k5.vrp\"\n",
    "cvrp_instance = read_cvrp_instance(file_path)\n",
    "\n",
    "# Create an AntColonyOptimization instance\n",
    "aco_solver = AntColonyOptimization(\n",
    "    dist_mtx=cvrp_instance.distances,\n",
    "    demand=cvrp_instance.customer_demands,\n",
    "    capacity=cvrp_instance.capacity,\n",
    "    n_ants=10,\n",
    "    plot_function=plot_function,\n",
    "    max_it=100,\n",
    "    evaporation_rate=0.7,\n",
    "    alpha=1.0,\n",
    "    betha=1.0,\n",
    "    verbose=True\n",
    ")\n",
    "\n",
    "# Solve the CVRP using Ant Colony Optimization\n",
    "best_solution, best_length = aco_solver.solve()\n",
    "\n",
    "# Display the best solution and its length\n",
    "print(\"Best Solution:\", best_solution)\n",
    "print(\"Best Solution Length:\", best_length)"
   ]
  },
  {
   "cell_type": "code",
   "execution_count": null,
   "id": "ed00f045",
   "metadata": {},
   "outputs": [],
   "source": []
  }
 ],
 "metadata": {
  "kernelspec": {
   "display_name": "Python 3 (ipykernel)",
   "language": "python",
   "name": "python3"
  },
  "language_info": {
   "codemirror_mode": {
    "name": "ipython",
    "version": 3
   },
   "file_extension": ".py",
   "mimetype": "text/x-python",
   "name": "python",
   "nbconvert_exporter": "python",
   "pygments_lexer": "ipython3",
   "version": "3.9.13"
  }
 },
 "nbformat": 4,
 "nbformat_minor": 5
}
